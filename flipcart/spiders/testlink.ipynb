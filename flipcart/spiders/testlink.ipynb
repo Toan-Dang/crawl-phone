{
 "cells": [
  {
   "cell_type": "code",
   "execution_count": 9,
   "metadata": {},
   "outputs": [],
   "source": [
    "import pandas as pd"
   ]
  },
  {
   "cell_type": "code",
   "execution_count": 10,
   "metadata": {},
   "outputs": [],
   "source": [
    "df = pd.read_csv('../../Products.csv')"
   ]
  },
  {
   "cell_type": "code",
   "execution_count": 11,
   "metadata": {},
   "outputs": [
    {
     "data": {
      "text/plain": [
       "2159"
      ]
     },
     "execution_count": 11,
     "metadata": {},
     "output_type": "execute_result"
    }
   ],
   "source": [
    "temp = df['review'][1].replace(',','')\n",
    "int(temp)"
   ]
  },
  {
   "cell_type": "code",
   "execution_count": 12,
   "metadata": {},
   "outputs": [
    {
     "name": "stdout",
     "output_type": "stream",
     "text": [
      "https://www.flipkart.com/realme-9i-prism-blue-64-gb/p/itm3e9987219f652?pid=MOBG9VGVKUM4XNRR&lid=LSTMOBG9VGVKUM4XNRRK3F43H&marketplace=FLIPKART&q=mobile+phone&store=tyy%2F4io&srno=s_1_2&otracker=AS_QueryStore_OrganicAutoSuggest_2_12_na_na_na&otracker1=AS_QueryStore_OrganicAutoSuggest_2_12_na_na_na&fm=organic&iid=0d361323-1fa5-4854-8252-bc984d39f7c7.MOBG9VGVKUM4XNRR.SEARCH&ppt=None&ppn=None&ssid=r5fa9mdq800000001651490492000&qH=37695f7554f510f0\n"
     ]
    }
   ],
   "source": [
    "if int(df['review'][1].replace(',','')) > 3:\n",
    "    print(df['url'][1])"
   ]
  },
  {
   "cell_type": "code",
   "execution_count": 13,
   "metadata": {},
   "outputs": [
    {
     "name": "stdout",
     "output_type": "stream",
     "text": [
      "{0: 'hmu', 1: 'hmu', 2: 'hmu', 3: 'hmu', 4: 'hmu', 5: 'hmu', 6: 'hmu', 7: 'hmu', 8: 'hmu', 9: 'hmu'}\n"
     ]
    }
   ],
   "source": [
    "test = {}\n",
    "aa= 'hmu'\n",
    "for i in range(10):\n",
    "    test[i] = aa\n",
    "\n",
    "print(test)"
   ]
  },
  {
   "cell_type": "code",
   "execution_count": 14,
   "metadata": {},
   "outputs": [
    {
     "data": {
      "text/plain": [
       "1968"
      ]
     },
     "execution_count": 14,
     "metadata": {},
     "output_type": "execute_result"
    }
   ],
   "source": [
    "df['url'].shape[0]"
   ]
  },
  {
   "cell_type": "code",
   "execution_count": 15,
   "metadata": {},
   "outputs": [],
   "source": [
    "str = '1,234'\n"
   ]
  },
  {
   "cell_type": "code",
   "execution_count": 18,
   "metadata": {},
   "outputs": [
    {
     "name": "stdout",
     "output_type": "stream",
     "text": [
      "626fc74a92862a0011000c64 525\n"
     ]
    },
    {
     "data": {
      "text/plain": [
       "str"
      ]
     },
     "execution_count": 18,
     "metadata": {},
     "output_type": "execute_result"
    }
   ],
   "source": [
    "url_csv = \"https://www.flipkart.com/asus-core-i5-8th-gen-8-gb-1-tb-hdd-windows-10-home-2-gb-graphics-r540ub-dm723t-laptop/p/itmfbhkvyhaqjsgw?pid=COMFBHKVYYP4F7EA&lid=LSTCOMFBHKVYYP4F7EAXFUKHN&marketplace=FLIPKART&q=laptop&store=6bo%2Fb5g&srno=s_41_983&otracker=search&otracker1=search&fm=organic&iid=b2837610-a368-40a1-a453-e81029715f55.COMFBHKVYYP4F7EA.SEARCH&ppt=None&ppn=None&ssid=vlkxolnlsw0000001651491826712&qH=312f91285e048e09\"\n",
    "\n",
    "for i in range(df['url'].shape[0]):\n",
    "    if url_csv == df['url'][i]:\n",
    "        id = df['_id/$oid'][i]\n",
    "        check = df['review'][i]\n",
    "        break\n",
    "\n",
    "print(id,check)\n",
    "type(check)"
   ]
  },
  {
   "cell_type": "code",
   "execution_count": 17,
   "metadata": {},
   "outputs": [
    {
     "data": {
      "text/plain": [
       "5"
      ]
     },
     "execution_count": 17,
     "metadata": {},
     "output_type": "execute_result"
    }
   ],
   "source": [
    "len(str)"
   ]
  },
  {
   "cell_type": "code",
   "execution_count": 20,
   "metadata": {},
   "outputs": [],
   "source": [
    "def read_csv():\n",
    "    df = pd.read_csv('feedbacklink.csv')\n",
    "    return df['url'].values.tolist()\n",
    "\n"
   ]
  }
 ],
 "metadata": {
  "interpreter": {
   "hash": "2be5faf79681da6f2a61fdfdd5405d65d042280f7fba6178067603e3a2925119"
  },
  "kernelspec": {
   "display_name": "Python 3.10.2 64-bit",
   "language": "python",
   "name": "python3"
  },
  "language_info": {
   "codemirror_mode": {
    "name": "ipython",
    "version": 3
   },
   "file_extension": ".py",
   "mimetype": "text/x-python",
   "name": "python",
   "nbconvert_exporter": "python",
   "pygments_lexer": "ipython3",
   "version": "3.10.2"
  },
  "orig_nbformat": 4
 },
 "nbformat": 4,
 "nbformat_minor": 2
}
