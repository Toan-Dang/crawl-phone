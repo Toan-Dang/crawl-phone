{
 "cells": [
  {
   "cell_type": "code",
   "execution_count": 1,
   "metadata": {},
   "outputs": [],
   "source": [
    "import pandas as pd"
   ]
  },
  {
   "cell_type": "code",
   "execution_count": 4,
   "metadata": {},
   "outputs": [],
   "source": [
    "df = pd.read_csv('../../Products.csv')"
   ]
  },
  {
   "cell_type": "code",
   "execution_count": 23,
   "metadata": {},
   "outputs": [
    {
     "data": {
      "text/plain": [
       "2159"
      ]
     },
     "execution_count": 23,
     "metadata": {},
     "output_type": "execute_result"
    }
   ],
   "source": [
    "temp = df['review'][1].replace(',','')\n",
    "int(temp)"
   ]
  },
  {
   "cell_type": "code",
   "execution_count": 26,
   "metadata": {},
   "outputs": [
    {
     "name": "stdout",
     "output_type": "stream",
     "text": [
      "https://www.flipkart.com/realme-9i-prism-blue-64-gb/p/itm3e9987219f652?pid=MOBG9VGVKUM4XNRR&lid=LSTMOBG9VGVKUM4XNRRK3F43H&marketplace=FLIPKART&q=mobile+phone&store=tyy%2F4io&srno=s_1_2&otracker=AS_QueryStore_OrganicAutoSuggest_2_12_na_na_na&otracker1=AS_QueryStore_OrganicAutoSuggest_2_12_na_na_na&fm=organic&iid=0d361323-1fa5-4854-8252-bc984d39f7c7.MOBG9VGVKUM4XNRR.SEARCH&ppt=None&ppn=None&ssid=r5fa9mdq800000001651490492000&qH=37695f7554f510f0\n"
     ]
    }
   ],
   "source": [
    "if int(df['review'][1].replace(',','')) > 3:\n",
    "    print(df['url'][1])"
   ]
  },
  {
   "cell_type": "code",
   "execution_count": 8,
   "metadata": {},
   "outputs": [
    {
     "name": "stdout",
     "output_type": "stream",
     "text": [
      "{0: 'hmu', 1: 'hmu', 2: 'hmu', 3: 'hmu', 4: 'hmu', 5: 'hmu', 6: 'hmu', 7: 'hmu', 8: 'hmu', 9: 'hmu'}\n"
     ]
    }
   ],
   "source": [
    "test = {}\n",
    "aa= 'hmu'\n",
    "for i in range(10):\n",
    "    test[i] = aa\n",
    "\n",
    "print(test)"
   ]
  },
  {
   "cell_type": "code",
   "execution_count": 24,
   "metadata": {},
   "outputs": [
    {
     "data": {
      "text/plain": [
       "1968"
      ]
     },
     "execution_count": 24,
     "metadata": {},
     "output_type": "execute_result"
    }
   ],
   "source": [
    "df['url'].shape[0]"
   ]
  },
  {
   "cell_type": "code",
   "execution_count": null,
   "metadata": {},
   "outputs": [],
   "source": [
    "if int(df['review'][1].replace(',','')) > 3:\n",
    "            fburl = base_url + pro.xpath('//*[@id=\"container\"]/div/div[3]/div[1]/div[2]/div[9]/div[7]/div/a/@href')[0].extract()\n",
    "            for pro in response.css('div.col.JOpGWq'):\n",
    "                yield {\n",
    "                    'productid': id,\n",
    "                    'url' : fburl\n",
    "                }\n",
    "        else:\n",
    "            for pro in response.css('div._2wzgFH'):\n",
    "\n",
    "                rate = pro.css('div._3LWZlK._1BLPMq::text').get()\n",
    "                cmt = pro.css('div.t-ZTKy div::text').get()\n",
    "                username = pro.css('div._3n8db9 p span::text')[1].get().replace(', ','')\n",
    "                yield{\n",
    "                    'productid': id,\n",
    "                    'rate': rate,\n",
    "                    'cmt': cmt,\n",
    "                    'username': username\n",
    "                }"
   ]
  }
 ],
 "metadata": {
  "interpreter": {
   "hash": "2be5faf79681da6f2a61fdfdd5405d65d042280f7fba6178067603e3a2925119"
  },
  "kernelspec": {
   "display_name": "Python 3.10.2 64-bit",
   "language": "python",
   "name": "python3"
  },
  "language_info": {
   "codemirror_mode": {
    "name": "ipython",
    "version": 3
   },
   "file_extension": ".py",
   "mimetype": "text/x-python",
   "name": "python",
   "nbconvert_exporter": "python",
   "pygments_lexer": "ipython3",
   "version": "3.10.2"
  },
  "orig_nbformat": 4
 },
 "nbformat": 4,
 "nbformat_minor": 2
}
